{
  "nbformat": 4,
  "nbformat_minor": 0,
  "metadata": {
    "colab": {
      "provenance": [],
      "gpuType": "L4",
      "authorship_tag": "ABX9TyMGaOWmz66Cx1fA9j2Yb0WC",
      "include_colab_link": true
    },
    "kernelspec": {
      "name": "python3",
      "display_name": "Python 3"
    },
    "language_info": {
      "name": "python"
    },
    "accelerator": "GPU"
  },
  "cells": [
    {
      "cell_type": "markdown",
      "metadata": {
        "id": "view-in-github",
        "colab_type": "text"
      },
      "source": [
        "<a href=\"https://colab.research.google.com/github/enVives/TFG/blob/main/ImageComparation.ipynb\" target=\"_parent\"><img src=\"https://colab.research.google.com/assets/colab-badge.svg\" alt=\"Open In Colab\"/></a>"
      ]
    },
    {
      "cell_type": "code",
      "execution_count": 30,
      "metadata": {
        "id": "8DVqi0cDLfQ4",
        "outputId": "7e478600-4316-43eb-ca49-9e54f385eccd",
        "colab": {
          "base_uri": "https://localhost:8080/"
        }
      },
      "outputs": [
        {
          "output_type": "stream",
          "name": "stdout",
          "text": [
            "Drive already mounted at /content/drive; to attempt to forcibly remount, call drive.mount(\"/content/drive\", force_remount=True).\n",
            "/content/drive/MyDrive/Features/Dist/0\n"
          ]
        }
      ],
      "source": [
        "import os\n",
        "import cv2\n",
        "\n",
        "from glob import glob\n",
        "import json\n",
        "import numpy as np\n",
        "import seaborn as sns\n",
        "import matplotlib.pyplot as plt\n",
        "from PIL import Image\n",
        "from google.colab import drive\n",
        "\n",
        "\n",
        "DRIVE_PATH = \"/content/drive/MyDrive/Features/Dist/\"\n",
        "EXECUCIO = 0\n",
        "\n",
        "drive.mount('/content/drive')\n",
        "\n",
        "\n",
        "PATH = DRIVE_PATH +str(EXECUCIO)\n",
        "print(PATH)"
      ]
    },
    {
      "cell_type": "code",
      "source": [
        "testing_images_folders = sorted(glob(PATH+'/*'))\n",
        "testing_images_names = np.array([])\n",
        "\n",
        "for i in range(len(testing_images_folders)-2):\n",
        "  testing_images_names = np.append(testing_images_names,(testing_images_folders[i].split(\"/\")[-1]).split(\"(\")[0])\n",
        "\n",
        "#iteram cada carpeta de cada imatge\n",
        "for j in range(len(testing_images_folders)-2):\n",
        "  imatge_test = cv2.imread(glob(str(testing_images_folders[j])+\"/*.jpg\")[0])\n",
        "\n",
        "  break\n"
      ],
      "metadata": {
        "id": "oAqjRvMEXfQW"
      },
      "execution_count": 31,
      "outputs": []
    }
  ]
}