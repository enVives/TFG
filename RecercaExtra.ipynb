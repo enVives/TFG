{
  "nbformat": 4,
  "nbformat_minor": 0,
  "metadata": {
    "colab": {
      "provenance": [],
      "gpuType": "T4",
      "authorship_tag": "ABX9TyM4pW7f7lsjAIq7RxX0wDAb",
      "include_colab_link": true
    },
    "kernelspec": {
      "name": "python3",
      "display_name": "Python 3"
    },
    "language_info": {
      "name": "python"
    },
    "accelerator": "GPU"
  },
  "cells": [
    {
      "cell_type": "markdown",
      "metadata": {
        "id": "view-in-github",
        "colab_type": "text"
      },
      "source": [
        "<a href=\"https://colab.research.google.com/github/enVives/TFG/blob/main/RecercaExtra.ipynb\" target=\"_parent\"><img src=\"https://colab.research.google.com/assets/colab-badge.svg\" alt=\"Open In Colab\"/></a>"
      ]
    },
    {
      "cell_type": "code",
      "source": [
        "import torch\n",
        "import cv2\n",
        "import csv\n",
        "import random\n",
        "import numpy as np\n",
        "import ast\n",
        "import os\n",
        "import time\n",
        "import matplotlib.pyplot as plt\n",
        "import kagglehub\n",
        "import pandas as pd\n",
        "import wandb\n",
        "import pylab as pl\n",
        "import json\n",
        "import sys\n",
        "import ast\n",
        "import shutil\n",
        "\n",
        "from glob import glob\n",
        "from sklearn.metrics import accuracy_score,f1_score,precision_score,recall_score\n",
        "from tqdm.auto import tqdm\n",
        "from sklearn.metrics import accuracy_score,f1_score,precision_score,recall_score\n",
        "from sklearn.model_selection import train_test_split\n",
        "from torchvision import transforms,models\n",
        "from torch import nn\n",
        "from torch.utils.data import Dataset\n",
        "from google.colab import files\n",
        "from IPython.display import clear_output,display\n",
        "from google.colab.patches import cv2_imshow\n",
        "from PIL import Image\n",
        "from skimage import io\n",
        "from google.colab import drive\n",
        "\n",
        "# ORIGEN = '/content/drive/MyDrive/HAM10000/skin-cancer-mnist-ham10000/'\n",
        "DOWNLOAD = False\n",
        "PUT = True\n",
        "RUN = 22\n",
        "\n",
        "drive.mount('/content/drive')\n",
        "\n",
        "TESTING_FEATURES_FILE = '/content/drive/MyDrive/Runs/Ham10000Resnet152Multiclass/'+str(RUN)+'/Features/testing_features.txt'\n",
        "TRAINING_FEATURES_FILE = '/content/drive/MyDrive/Runs/Ham10000Resnet152Multiclass/'+str(RUN)+'/Features/training_features.txt'\n",
        "HAIRIMG = '/content/drive/MyDrive/Runs/Ham10000Resnet152Multiclass/'+str(RUN)+'/HairFeature/'\n",
        "NOHAIRIMG =  '/content/drive/MyDrive/Runs/Ham10000Resnet152Multiclass/'+str(RUN)+'/NoHairFeature/'\n",
        "FOLDERS = ['nv','bcc','bkl','akiec','vasc','mel','df']\n",
        "\n",
        "if PUT:\n",
        "  if os.path.exists(HAIRIMG):\n",
        "      shutil.rmtree(HAIRIMG)\n",
        "  if os.path.exists(NOHAIRIMG):\n",
        "      shutil.rmtree(NOHAIRIMG)\n",
        "\n",
        "  os.makedirs(HAIRIMG,exist_ok=True)\n",
        "  os.makedirs(NOHAIRIMG,exist_ok=True)\n",
        "\n",
        "  for i in FOLDERS:\n",
        "    os.makedirs(HAIRIMG+i+'/',exist_ok=True)\n",
        "    os.makedirs(NOHAIRIMG+i+'/',exist_ok=True)\n",
        "\n",
        "\n",
        "\n",
        "if DOWNLOAD:\n",
        "  !rm -rf /content/sample_data/*\n",
        "\n",
        "  !kaggle datasets download -d \"kmader/skin-cancer-mnist-ham10000\"\n",
        "\n",
        "  !unzip -o skin-cancer-mnist-ham10000.zip -d /content/sample_data/\n",
        "\n",
        "metadates = pd.read_csv('/content/sample_data/HAM10000_metadata.csv')\n",
        "\n",
        "\n",
        "IMAGE_PATHS1 = glob('/content/sample_data/HAM10000_images_part_1/*.jpg')\n",
        "IMAGE_PATHS2 = glob('/content/sample_data/HAM10000_images_part_2/*.jpg')\n",
        "IMAGE_PATHS3 = glob('/content/sample_data/ham10000_images_part_1/*.jpg')\n",
        "IMAGE_PATHS4 = glob('/content/sample_data/ham10000_images_part_2/*.jpg')\n",
        "IMAGE_PATHS = IMAGE_PATHS2\n",
        "# PATH_TRAINING_DISTANCES = \"/content/drive/MyDrive/Features/Embeddings/embeddings_pesos_resnet152multiclass_3.pt.txt\" #embeddings training\n",
        "# DISTANCES_IMAGES = \"/content/drive/MyDrive/Features/Dist/1/distances.txt\" #distàncies de totes les imatges de test\n",
        "\n",
        "IMG_PATH = '/content/sample_data/HAM10000_images_part_2/'\n",
        "\n",
        "hair_img_numbers = [27790,27010,25415,25606,28732,26193,26947,27970,24891,26315,26392,27199,26127,27970,24891,26315,26392,27199,26127,26303,29097,25282,28642,27295,28424,26184,24779,26998,24342,26615\n",
        "               ,26651,28921, 28777, 26292, 25746, 25216, 24803, 24411, 26879, 26286, 25746, 25526, 25466,33886,33569,30693,30643,30768,30426,34235,30064,30624,32942,33738,34297,\n",
        "               33337,33067,31057,30178,31172,31178,34085,31775,31096,30882,33374,33450,32266,29954,33380,29937,30853,32664,29780,\n",
        "               33688,30353,30920,33449,34295,31862,32054,32198,29569,32808,24331,34314,32307,30743,32477,29390,33683,30774,33418,29341,32200,30110]\n",
        "\n",
        "nohair_img_numbers = [29071,31385,33832,31549,27054,28724,29932,30730,26626,26702,31108,24951,28026,27300,27663,30445,25312,29040,\n",
        "                      28977,25046,25818,33146,31641,25971,31309,33554]\n",
        "\n",
        "device = torch.device('cuda' if torch.cuda.is_available() else 'cpu')\n",
        "\n",
        "if PUT:\n",
        "  for i in hair_img_numbers:\n",
        "    diagnosis = metadates.loc[metadates['image_id'] == 'ISIC_00'+str(i), 'dx'].values\n",
        "\n",
        "    if os.path.exists(IMG_PATH+'ISIC_00'+str(i)+'.jpg'):\n",
        "      shutil.copy(IMG_PATH+'ISIC_00'+str(i)+'.jpg',HAIRIMG+str(diagnosis[0])+'/')\n",
        "    else:\n",
        "      shutil.copy('/content/sample_data/HAM10000_images_part_1/'+'ISIC_00'+str(i)+'.jpg',HAIRIMG+str(diagnosis[0])+'/')\n",
        "\n",
        "  for i in nohair_img_numbers:\n",
        "    diagnosis = metadates.loc[metadates['image_id'] == 'ISIC_00'+str(i), 'dx'].values\n",
        "    if os.path.exists(IMG_PATH+'ISIC_00'+str(i)+'.jpg'):\n",
        "      shutil.copy(IMG_PATH+'ISIC_00'+str(i)+'.jpg',NOHAIRIMG+str(diagnosis[0])+'/')\n",
        "    else:\n",
        "      shutil.copy('/content/sample_data/HAM10000_images_part_1/'+'ISIC_00'+str(i)+'.jpg',NOHAIRIMG+str(diagnosis[0])+'/')\n",
        "\n",
        "\n"
      ],
      "metadata": {
        "colab": {
          "base_uri": "https://localhost:8080/"
        },
        "id": "L1amdCh9a2Mb",
        "outputId": "03c09305-df67-4541-da56-6278b8cfbbe6"
      },
      "execution_count": 6,
      "outputs": [
        {
          "output_type": "stream",
          "name": "stdout",
          "text": [
            "Drive already mounted at /content/drive; to attempt to forcibly remount, call drive.mount(\"/content/drive\", force_remount=True).\n"
          ]
        }
      ]
    },
    {
      "cell_type": "code",
      "source": [
        "def guarda_features_hairy():\n",
        "    features = []\n",
        "    for j in hair_img_numbers:\n",
        "        name = 'ISIC_00'+str(j)+'.jpg'\n",
        "        with open(TESTING_FEATURES_FILE, newline='') as ftst:\n",
        "            test_features = csv.DictReader(ftst, delimiter=',')\n",
        "\n",
        "            for row in test_features:\n",
        "                if row['Image Name'] == name:\n",
        "                    features.append((ast.literal_eval(row['FC Input']),row['Label']))\n",
        "\n",
        "        with open(TRAINING_FEATURES_FILE, newline='') as ftr:\n",
        "            tr_features = csv.DictReader(ftr, delimiter=',')\n",
        "\n",
        "            for row in tr_features:\n",
        "                if row['Image Name'] == name:\n",
        "                    features.append((ast.literal_eval(row['FC Input']),row['Label']))\n",
        "\n",
        "    with open(HAIRIMG+'Hairy_features.txt', 'w') as out_file:\n",
        "        out_file.write(str(features))\n",
        "\n",
        "\n",
        "def guarda_features_dif():\n",
        "  features = []\n",
        "  for j in nohair_img_numbers:\n",
        "        name = 'ISIC_00'+str(j)+'.jpg'\n",
        "        with open(TESTING_FEATURES_FILE, newline='') as ftst:\n",
        "            test_features = csv.DictReader(ftst, delimiter=',')\n",
        "\n",
        "            for row in test_features:\n",
        "                if row['Image Name'] == name:\n",
        "                    features.append((ast.literal_eval(row['FC Input']),row['Label']))\n",
        "\n",
        "        with open(TRAINING_FEATURES_FILE, newline='') as ftr:\n",
        "            tr_features = csv.DictReader(ftr, delimiter=',')\n",
        "\n",
        "            for row in tr_features:\n",
        "                if row['Image Name'] == name:\n",
        "                    features.append((ast.literal_eval(row['FC Input']),row['Label']))\n",
        "\n",
        "  with open(NOHAIRIMG+'noHairy_features.txt', 'w') as out_file:\n",
        "      out_file.write(str(features))\n",
        "\n",
        "# guarda_features_hairy()\n",
        "# guarda_features_dif()"
      ],
      "metadata": {
        "id": "cQSN4LfB-yF8"
      },
      "execution_count": 7,
      "outputs": []
    },
    {
      "cell_type": "code",
      "source": [
        "import itertools\n",
        "\n",
        "classe = \"nv\"\n",
        "dict_illnesses = {0 : 'nv', 1 : 'mel', 2 : 'bkl', 3 : 'bcc', 4 : 'akiec', 5 : 'vasc', 6 : 'df'}\n",
        "\n",
        "importance_scores = []\n",
        "\n",
        "with open(HAIRIMG+'Hairy_features.txt','r') as ft:\n",
        "  hairy = ast.literal_eval(ft.read())\n",
        "\n",
        "  for i in hairy:\n",
        "    if dict_illnesses[int(i[1])] == classe:\n",
        "      importance_scores.append(i[0]) #i[0] conté el vector de caracteristiques\n",
        "\n",
        "  importance_scores = np.array(importance_scores)\n",
        "  importance_scores = np.mean(np.abs(importance_scores), axis=0)\n",
        "\n",
        "\n",
        "top_k= 20\n",
        "top_indices1 = np.argsort(avg_diff)[-top_k:]\n",
        "\n",
        "plt.figure(figsize=(10, 5))\n",
        "plt.bar(range(top_k), importance_scores[top_indices1])\n",
        "plt.xticks(range(top_k), top_indices1, rotation=90)\n",
        "plt.title(f\"Top-{top_k} dimensions més importants amb pels\")\n",
        "plt.xlabel(\"Índex de la dimensió\")\n",
        "plt.ylabel(\"Valor de Mitja\")\n",
        "plt.tight_layout()\n",
        "plt.show()"
      ],
      "metadata": {
        "id": "Sr0pQdYb0VKz",
        "outputId": "2dda0d9e-6134-45ac-8c84-69cb277a1f2a",
        "colab": {
          "base_uri": "https://localhost:8080/",
          "height": 507
        }
      },
      "execution_count": 26,
      "outputs": [
        {
          "output_type": "display_data",
          "data": {
            "text/plain": [
              "<Figure size 1000x500 with 1 Axes>"
            ],
            "image/png": "[encoded data removed]"
          },
          "metadata": {}
        }
      ]
    },
    {
      "cell_type": "code",
      "source": [
        "import itertools\n",
        "\n",
        "classe = \"nv\"\n",
        "dict_illnesses = {0 : 'nv', 1 : 'mel', 2 : 'bkl', 3 : 'bcc', 4 : 'akiec', 5 : 'vasc', 6 : 'df'}\n",
        "\n",
        "importance_scores = []\n",
        "\n",
        "with open(NOHAIRIMG+'noHairy_features.txt','r') as ft:\n",
        "  nohairy = ast.literal_eval(ft.read())\n",
        "\n",
        "  for i in nohairy:\n",
        "    if dict_illnesses[int(i[1])] == classe:\n",
        "      importance_scores.append(i[0]) #i[0] conté el vector de caracteristiques\n",
        "\n",
        "  importance_scores = np.array(importance_scores)\n",
        "  importance_scores = np.mean(np.abs(importance_scores), axis=0)\n",
        "\n",
        "\n",
        "top_k= 20\n",
        "top_indices2 = np.argsort(avg_diff)[-top_k:]\n",
        "\n",
        "plt.figure(figsize=(10, 5))\n",
        "plt.bar(range(top_k), importance_scores[top_indices2])\n",
        "plt.xticks(range(top_k), top_indices2, rotation=90)\n",
        "plt.title(f\"Top-{top_k} dimensions més importants fora pels\")\n",
        "plt.xlabel(\"Índex de la dimensió\")\n",
        "plt.ylabel(\"Valor de Mitja\")\n",
        "plt.tight_layout()\n",
        "plt.show()"
      ],
      "metadata": {
        "id": "ZZdlPtZGV2yc",
        "outputId": "08d281d7-8c33-4018-97c9-388564de37b1",
        "colab": {
          "base_uri": "https://localhost:8080/",
          "height": 507
        }
      },
      "execution_count": 29,
      "outputs": [
        {
          "output_type": "display_data",
          "data": {
            "text/plain": [
              "<Figure size 1000x500 with 1 Axes>"
            ],
            "image/png": "[encoded data removed]"
          },
          "metadata": {}
        }
      ]
    },
    {
      "cell_type": "code",
      "source": [
        "indexs_importants = []\n",
        "for i in top_indices1:\n",
        "  if i not in top_indices2:\n",
        "    indexs_importants.append(i)\n",
        "print(indexs_importants)"
      ],
      "metadata": {
        "id": "wck_L8uXXrPi",
        "outputId": "b8a3a5a1-970e-447b-a49c-10d047b25f65",
        "colab": {
          "base_uri": "https://localhost:8080/"
        }
      },
      "execution_count": 30,
      "outputs": [
        {
          "output_type": "stream",
          "name": "stdout",
          "text": [
            "[]\n"
          ]
        }
      ]
    },
    {
      "cell_type": "markdown",
      "source": [
        "Pertanyents a l'histograma de pels i no al segon: \\\\\n",
        "· 1219 \\\\\n",
        "· 1532 \\\\\n",
        "· 862 \\\\\n",
        "· 1732 \\\\\n",
        "· 1372"
      ],
      "metadata": {
        "id": "L512mt4uXbrs"
      }
    },
    {
      "cell_type": "code",
      "source": [
        "import numpy as np\n",
        "import matplotlib.pyplot as plt\n",
        "from collections import defaultdict\n",
        "\n",
        "index_counter = defaultdict(int)\n",
        "top_k = 20\n",
        "\n",
        "# Contar frecuencia de aparición en el top-k\n",
        "for vec in hairy:\n",
        "    top_indices = np.argsort(vec)[-top_k:]\n",
        "    for idx in top_indices:\n",
        "        index_counter[idx] += 1\n",
        "\n",
        "# Ordenar por frecuencia descendente y obtener los 20 más frecuentes\n",
        "top_20_freq = sorted(index_counter.items(), key=lambda x: x[1], reverse=True)[:20]\n",
        "top_indices, top_counts = zip(*top_20_freq)\n",
        "\n",
        "# Mostrar histograma solo con los 20 más frecuentes\n",
        "plt.figure(figsize=(10, 5))\n",
        "plt.bar(range(20), top_counts)\n",
        "plt.xticks(range(20), top_indices, rotation=90)\n",
        "plt.title(\"Top 20 indexs més frecuents en els Top-20 dels \"+str(len(IMATGES_INTERES))+\" vectors amb pels\")\n",
        "plt.xlabel(\"Índex de la dimensió\")\n",
        "plt.ylabel(\"Frecuencia\")\n",
        "plt.tight_layout()\n",
        "plt.grid(True)\n",
        "plt.show()"
      ],
      "metadata": {
        "id": "irxvf5nhKFYf"
      },
      "execution_count": null,
      "outputs": []
    },
    {
      "cell_type": "code",
      "source": [
        "import numpy as np\n",
        "import matplotlib.pyplot as plt\n",
        "from collections import defaultdict\n",
        "\n",
        "index_counter = defaultdict(int)\n",
        "top_k = 20\n",
        "\n",
        "# Contar frecuencia de aparición en el top-k\n",
        "for vec in nohairy:\n",
        "    top_indices = np.argsort(vec)[-top_k:]\n",
        "    for idx in top_indices:\n",
        "        index_counter[idx] += 1\n",
        "\n",
        "# Ordenar por frecuencia descendente y obtener los 20 más frecuentes\n",
        "top_20_freq = sorted(index_counter.items(), key=lambda x: x[1], reverse=True)[:20]\n",
        "top_indices, top_counts = zip(*top_20_freq)\n",
        "\n",
        "# Mostrar histograma solo con los 20 más frecuentes\n",
        "plt.figure(figsize=(10, 5))\n",
        "plt.bar(range(20), top_counts,color='green')\n",
        "plt.xticks(range(20), top_indices, rotation=90)\n",
        "plt.title(\"Top 20 indexs més frecuents en els Top-20 dels \"+str(len(IMATGES_INTERES))+\" fora pels\")\n",
        "plt.xlabel(\"Índex de la dimensió\")\n",
        "plt.ylabel(\"Frecuencia\")\n",
        "plt.tight_layout()\n",
        "plt.grid(True)\n",
        "plt.show()"
      ],
      "metadata": {
        "id": "d6og9WHkYV22"
      },
      "execution_count": null,
      "outputs": []
    },
    {
      "cell_type": "markdown",
      "source": [],
      "metadata": {
        "id": "vhkltmnzZc-l"
      }
    },
    {
      "cell_type": "code",
      "source": [
        "\n",
        "# for path in IMAGE_PATHS:  # Puedes cambiar el número de imágenes que deseas ver\n",
        "#     img = Image.open(path)\n",
        "#     clear_output(wait=True)  # Limpia la celda para mostrar la siguiente imagen\n",
        "#     display(img)\n",
        "#     print(path)\n",
        "#     time.sleep(5)  # Espera 2 segundos\n"
      ],
      "metadata": {
        "id": "SpjWfk1EsaXi"
      },
      "execution_count": null,
      "outputs": []
    },
    {
      "cell_type": "code",
      "source": [],
      "metadata": {
        "id": "Ybrw1aNRsbGr"
      },
      "execution_count": null,
      "outputs": []
    },
    {
      "cell_type": "code",
      "source": [
        "# !mkdir -p ~/.kaggle\n",
        "# !mv /content/kaggle.json ~/.kaggle/\n",
        "# !chmod 600 ~/.kaggle/kaggle.json"
      ],
      "metadata": {
        "id": "eOvWJxspa3fS"
      },
      "execution_count": null,
      "outputs": []
    },
    {
      "cell_type": "code",
      "source": [
        "# print(vector_features)"
      ],
      "metadata": {
        "id": "p4XL8dlniUNK"
      },
      "execution_count": null,
      "outputs": []
    }
  ]
}