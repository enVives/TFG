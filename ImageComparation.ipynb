{
  "nbformat": 4,
  "nbformat_minor": 0,
  "metadata": {
    "colab": {
      "provenance": [],
      "gpuType": "L4",
      "authorship_tag": "ABX9TyPkjyf5Nsl+8QbtQ83MfYX+",
      "include_colab_link": true
    },
    "kernelspec": {
      "name": "python3",
      "display_name": "Python 3"
    },
    "language_info": {
      "name": "python"
    },
    "accelerator": "GPU"
  },
  "cells": [
    {
      "cell_type": "markdown",
      "metadata": {
        "id": "view-in-github",
        "colab_type": "text"
      },
      "source": [
        "<a href=\"https://colab.research.google.com/github/enVives/TFG/blob/main/ImageComparation.ipynb\" target=\"_parent\"><img src=\"https://colab.research.google.com/assets/colab-badge.svg\" alt=\"Open In Colab\"/></a>"
      ]
    },
    {
      "cell_type": "code",
      "execution_count": 3,
      "metadata": {
        "id": "8DVqi0cDLfQ4",
        "outputId": "d41254fe-b180-4530-e28b-51fa1c9bdbc2",
        "colab": {
          "base_uri": "https://localhost:8080/"
        }
      },
      "outputs": [
        {
          "output_type": "stream",
          "name": "stdout",
          "text": [
            "Drive already mounted at /content/drive; to attempt to forcibly remount, call drive.mount(\"/content/drive\", force_remount=True).\n",
            "/content/drive/MyDrive/Features/Dist/0\n"
          ]
        }
      ],
      "source": [
        "import os\n",
        "import cv2\n",
        "\n",
        "from glob import glob\n",
        "import json\n",
        "import numpy as np\n",
        "import seaborn as sns\n",
        "import matplotlib.pyplot as plt\n",
        "from PIL import Image\n",
        "from google.colab import drive\n",
        "\n",
        "\n",
        "DRIVE_PATH = \"/content/drive/MyDrive/Features/Dist/\"\n",
        "EXECUCIO = 0\n",
        "\n",
        "drive.mount('/content/drive')\n",
        "\n",
        "\n",
        "PATH = DRIVE_PATH +str(EXECUCIO)\n",
        "print(PATH)"
      ]
    },
    {
      "cell_type": "code",
      "source": [
        "testing_images_folders = sorted(glob(PATH+'/*'))\n",
        "testing_images_names = np.array([])\n",
        "\n",
        "for i in range(len(testing_images_folders)-2):\n",
        "  testing_images_names = np.append(testing_images_names,(testing_images_folders[i].split(\"/\")[-1]).split(\"(\")[0])\n",
        "\n",
        "#iteram cada carpeta de cada imatge\n",
        "for j in range(len(testing_images_folders)-2):\n",
        "  imatge_test = cv2.imread(glob(str(testing_images_folders[j])+\"/*.jpg\")[0])\n",
        "  carpeta_top = testing_images_folders[j]+\"/Top/\"\n",
        "  carpeta_bottom = testing_images_folders[j]+\"/Bottom/\"\n",
        "  print(carpeta_top)\n",
        "  print(carpeta_bottom)\n",
        "  break\n"
      ],
      "metadata": {
        "id": "oAqjRvMEXfQW",
        "outputId": "e22b9c59-cec5-4c28-d1a0-ef7e21376345",
        "colab": {
          "base_uri": "https://localhost:8080/"
        }
      },
      "execution_count": 4,
      "outputs": [
        {
          "output_type": "stream",
          "name": "stdout",
          "text": [
            "/content/drive/MyDrive/Features/Dist/0/ISIC_0024597(nv)/Top/\n",
            "/content/drive/MyDrive/Features/Dist/0/ISIC_0024597(nv)/Bottom/\n"
          ]
        }
      ]
    },
    {
      "cell_type": "code",
      "source": [],
      "metadata": {
        "id": "Nt1aiZT8cVjQ"
      },
      "execution_count": 4,
      "outputs": []
    }
  ]
}