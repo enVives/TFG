{
  "nbformat": 4,
  "nbformat_minor": 0,
  "metadata": {
    "colab": {
      "provenance": [],
      "authorship_tag": "ABX9TyPk7+h6c/ahT5qMDWU4wCzp",
      "include_colab_link": true
    },
    "kernelspec": {
      "name": "python3",
      "display_name": "Python 3"
    },
    "language_info": {
      "name": "python"
    }
  },
  "cells": [
    {
      "cell_type": "markdown",
      "metadata": {
        "id": "view-in-github",
        "colab_type": "text"
      },
      "source": [
        "<a href=\"https://colab.research.google.com/github/enVives/TFG/blob/main/RecercaExtra.ipynb\" target=\"_parent\"><img src=\"https://colab.research.google.com/assets/colab-badge.svg\" alt=\"Open In Colab\"/></a>"
      ]
    },
    {
      "cell_type": "code",
      "execution_count": 3,
      "metadata": {
        "id": "dfB_NLT9l39V"
      },
      "outputs": [],
      "source": [
        "!git config --global user.name \"enVives\"\n",
        "!git config --global user.email \"pjvivesmorey@gmail.com\"\n"
      ]
    },
    {
      "cell_type": "markdown",
      "source": [
        "document per a la recerca extra, idees: mineria de dades amb el document csv."
      ],
      "metadata": {
        "id": "2J2bnsaWl8zg"
      }
    }
  ]
}