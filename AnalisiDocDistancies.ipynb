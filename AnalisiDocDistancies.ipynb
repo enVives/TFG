{
  "nbformat": 4,
  "nbformat_minor": 0,
  "metadata": {
    "colab": {
      "provenance": [],
      "gpuType": "T4",
      "authorship_tag": "ABX9TyPDO7NsZQs/j698moiSvcGP",
      "include_colab_link": true
    },
    "kernelspec": {
      "name": "python3",
      "display_name": "Python 3"
    },
    "language_info": {
      "name": "python"
    },
    "accelerator": "GPU"
  },
  "cells": [
    {
      "cell_type": "markdown",
      "metadata": {
        "id": "view-in-github",
        "colab_type": "text"
      },
      "source": [
        "<a href=\"https://colab.research.google.com/github/enVives/TFG/blob/main/AnalisiDocDistancies.ipynb\" target=\"_parent\"><img src=\"https://colab.research.google.com/assets/colab-badge.svg\" alt=\"Open In Colab\"/></a>"
      ]
    },
    {
      "cell_type": "code",
      "execution_count": 1,
      "metadata": {
        "colab": {
          "base_uri": "https://localhost:8080/",
          "height": 356
        },
        "id": "zCN-4glrKPD9",
        "outputId": "140b03e7-48f0-4854-a043-47cc5f3013bf"
      },
      "outputs": [
        {
          "output_type": "error",
          "ename": "MessageError",
          "evalue": "Error: credential propagation was unsuccessful",
          "traceback": [
            "\u001b[0;31m---------------------------------------------------------------------------\u001b[0m",
            "\u001b[0;31mMessageError\u001b[0m                              Traceback (most recent call last)",
            "\u001b[0;32m/tmp/ipython-input-1-3567153777.py\u001b[0m in \u001b[0;36m<cell line: 0>\u001b[0;34m()\u001b[0m\n\u001b[1;32m     22\u001b[0m \u001b[0;32mfrom\u001b[0m \u001b[0mcollections\u001b[0m \u001b[0;32mimport\u001b[0m \u001b[0mCounter\u001b[0m\u001b[0;34m\u001b[0m\u001b[0;34m\u001b[0m\u001b[0m\n\u001b[1;32m     23\u001b[0m \u001b[0;34m\u001b[0m\u001b[0m\n\u001b[0;32m---> 24\u001b[0;31m \u001b[0mdrive\u001b[0m\u001b[0;34m.\u001b[0m\u001b[0mmount\u001b[0m\u001b[0;34m(\u001b[0m\u001b[0;34m'/content/drive'\u001b[0m\u001b[0;34m)\u001b[0m\u001b[0;34m\u001b[0m\u001b[0;34m\u001b[0m\u001b[0m\n\u001b[0m\u001b[1;32m     25\u001b[0m \u001b[0;34m\u001b[0m\u001b[0m\n\u001b[1;32m     26\u001b[0m MODELS = {\n",
            "\u001b[0;32m/usr/local/lib/python3.11/dist-packages/google/colab/drive.py\u001b[0m in \u001b[0;36mmount\u001b[0;34m(mountpoint, force_remount, timeout_ms, readonly)\u001b[0m\n\u001b[1;32m     98\u001b[0m \u001b[0;32mdef\u001b[0m \u001b[0mmount\u001b[0m\u001b[0;34m(\u001b[0m\u001b[0mmountpoint\u001b[0m\u001b[0;34m,\u001b[0m \u001b[0mforce_remount\u001b[0m\u001b[0;34m=\u001b[0m\u001b[0;32mFalse\u001b[0m\u001b[0;34m,\u001b[0m \u001b[0mtimeout_ms\u001b[0m\u001b[0;34m=\u001b[0m\u001b[0;36m120000\u001b[0m\u001b[0;34m,\u001b[0m \u001b[0mreadonly\u001b[0m\u001b[0;34m=\u001b[0m\u001b[0;32mFalse\u001b[0m\u001b[0;34m)\u001b[0m\u001b[0;34m:\u001b[0m\u001b[0;34m\u001b[0m\u001b[0;34m\u001b[0m\u001b[0m\n\u001b[1;32m     99\u001b[0m   \u001b[0;34m\"\"\"Mount your Google Drive at the specified mountpoint path.\"\"\"\u001b[0m\u001b[0;34m\u001b[0m\u001b[0;34m\u001b[0m\u001b[0m\n\u001b[0;32m--> 100\u001b[0;31m   return _mount(\n\u001b[0m\u001b[1;32m    101\u001b[0m       \u001b[0mmountpoint\u001b[0m\u001b[0;34m,\u001b[0m\u001b[0;34m\u001b[0m\u001b[0;34m\u001b[0m\u001b[0m\n\u001b[1;32m    102\u001b[0m       \u001b[0mforce_remount\u001b[0m\u001b[0;34m=\u001b[0m\u001b[0mforce_remount\u001b[0m\u001b[0;34m,\u001b[0m\u001b[0;34m\u001b[0m\u001b[0;34m\u001b[0m\u001b[0m\n",
            "\u001b[0;32m/usr/local/lib/python3.11/dist-packages/google/colab/drive.py\u001b[0m in \u001b[0;36m_mount\u001b[0;34m(mountpoint, force_remount, timeout_ms, ephemeral, readonly)\u001b[0m\n\u001b[1;32m    135\u001b[0m   )\n\u001b[1;32m    136\u001b[0m   \u001b[0;32mif\u001b[0m \u001b[0mephemeral\u001b[0m\u001b[0;34m:\u001b[0m\u001b[0;34m\u001b[0m\u001b[0;34m\u001b[0m\u001b[0m\n\u001b[0;32m--> 137\u001b[0;31m     _message.blocking_request(\n\u001b[0m\u001b[1;32m    138\u001b[0m         \u001b[0;34m'request_auth'\u001b[0m\u001b[0;34m,\u001b[0m\u001b[0;34m\u001b[0m\u001b[0;34m\u001b[0m\u001b[0m\n\u001b[1;32m    139\u001b[0m         \u001b[0mrequest\u001b[0m\u001b[0;34m=\u001b[0m\u001b[0;34m{\u001b[0m\u001b[0;34m'authType'\u001b[0m\u001b[0;34m:\u001b[0m \u001b[0;34m'dfs_ephemeral'\u001b[0m\u001b[0;34m}\u001b[0m\u001b[0;34m,\u001b[0m\u001b[0;34m\u001b[0m\u001b[0;34m\u001b[0m\u001b[0m\n",
            "\u001b[0;32m/usr/local/lib/python3.11/dist-packages/google/colab/_message.py\u001b[0m in \u001b[0;36mblocking_request\u001b[0;34m(request_type, request, timeout_sec, parent)\u001b[0m\n\u001b[1;32m    174\u001b[0m       \u001b[0mrequest_type\u001b[0m\u001b[0;34m,\u001b[0m \u001b[0mrequest\u001b[0m\u001b[0;34m,\u001b[0m \u001b[0mparent\u001b[0m\u001b[0;34m=\u001b[0m\u001b[0mparent\u001b[0m\u001b[0;34m,\u001b[0m \u001b[0mexpect_reply\u001b[0m\u001b[0;34m=\u001b[0m\u001b[0;32mTrue\u001b[0m\u001b[0;34m\u001b[0m\u001b[0;34m\u001b[0m\u001b[0m\n\u001b[1;32m    175\u001b[0m   )\n\u001b[0;32m--> 176\u001b[0;31m   \u001b[0;32mreturn\u001b[0m \u001b[0mread_reply_from_input\u001b[0m\u001b[0;34m(\u001b[0m\u001b[0mrequest_id\u001b[0m\u001b[0;34m,\u001b[0m \u001b[0mtimeout_sec\u001b[0m\u001b[0;34m)\u001b[0m\u001b[0;34m\u001b[0m\u001b[0;34m\u001b[0m\u001b[0m\n\u001b[0m",
            "\u001b[0;32m/usr/local/lib/python3.11/dist-packages/google/colab/_message.py\u001b[0m in \u001b[0;36mread_reply_from_input\u001b[0;34m(message_id, timeout_sec)\u001b[0m\n\u001b[1;32m    101\u001b[0m     ):\n\u001b[1;32m    102\u001b[0m       \u001b[0;32mif\u001b[0m \u001b[0;34m'error'\u001b[0m \u001b[0;32min\u001b[0m \u001b[0mreply\u001b[0m\u001b[0;34m:\u001b[0m\u001b[0;34m\u001b[0m\u001b[0;34m\u001b[0m\u001b[0m\n\u001b[0;32m--> 103\u001b[0;31m         \u001b[0;32mraise\u001b[0m \u001b[0mMessageError\u001b[0m\u001b[0;34m(\u001b[0m\u001b[0mreply\u001b[0m\u001b[0;34m[\u001b[0m\u001b[0;34m'error'\u001b[0m\u001b[0;34m]\u001b[0m\u001b[0;34m)\u001b[0m\u001b[0;34m\u001b[0m\u001b[0;34m\u001b[0m\u001b[0m\n\u001b[0m\u001b[1;32m    104\u001b[0m       \u001b[0;32mreturn\u001b[0m \u001b[0mreply\u001b[0m\u001b[0;34m.\u001b[0m\u001b[0mget\u001b[0m\u001b[0;34m(\u001b[0m\u001b[0;34m'data'\u001b[0m\u001b[0;34m,\u001b[0m \u001b[0;32mNone\u001b[0m\u001b[0;34m)\u001b[0m\u001b[0;34m\u001b[0m\u001b[0;34m\u001b[0m\u001b[0m\n\u001b[1;32m    105\u001b[0m \u001b[0;34m\u001b[0m\u001b[0m\n",
            "\u001b[0;31mMessageError\u001b[0m: Error: credential propagation was unsuccessful"
          ]
        }
      ],
      "source": [
        "import os\n",
        "import cv2\n",
        "import ast\n",
        "\n",
        "from glob import glob\n",
        "import json\n",
        "import statistics\n",
        "import numpy as np\n",
        "import pandas as pd\n",
        "import seaborn as sns\n",
        "import matplotlib.pyplot as plt\n",
        "from PIL import Image\n",
        "from google.colab import drive\n",
        "\n",
        "\n",
        "import seaborn as sns\n",
        "import matplotlib.pyplot as plt\n",
        "from sklearn.metrics import confusion_matrix\n",
        "\n",
        "\n",
        "import ast\n",
        "from collections import Counter\n",
        "\n",
        "drive.mount('/content/drive')\n",
        "\n",
        "MODELS = {\n",
        "    0: 'AlexnetBinary',\n",
        "    1: 'Resnet152Binary',\n",
        "    2: 'Inceptionv3Binary',\n",
        "    3: 'EfficientNetB1Binary',\n",
        "    4: 'AlexnetMulticlass',\n",
        "    5: 'Resnet152Multiclass',\n",
        "    6: 'Inceptionv3Multiclass',\n",
        "    7: 'EfficientnetB1Multiclass',\n",
        "}\n",
        "\n",
        "DISTANCES = {\n",
        "    'Cosin' : 0,\n",
        "    'L2' : 1\n",
        "}\n",
        "\n",
        "MODEL = MODELS[6] #we pick a model\n",
        "picked = 'Cosin'\n",
        "DISTANCE = DISTANCES[picked] #we pick a distance\n",
        "\n",
        "RUN = 9 #we pick a run\n",
        "\n",
        "metadates_cos = pd.read_csv(\"/content/drive/MyDrive/Runs/Ham10000-\"+MODEL+\"/\"+str(RUN)+\"/Dist/\"+picked+\"/distances.txt\", sep=\";\")\n",
        "metadates_l2 = pd.read_csv(\"/content/drive/MyDrive/Runs/Ham10000-\"+MODEL+\"/\"+str(RUN)+\"/Dist/\"+picked+\"/distances.txt\", sep=\";\")"
      ]
    },
    {
      "cell_type": "code",
      "source": [
        "def process_and_get_mode(row):\n",
        "    real_list = ast.literal_eval(row.replace(\" \", \",\"))  # Convertir string a lista\n",
        "    counter = Counter(real_list)\n",
        "    return counter.most_common(1)[0][0]  # Devolver la moda\n",
        "\n",
        "# x_cosin = x_cosin.apply(process_and_get_mode)\n",
        "# x_l2 = x_l2.apply(process_and_get_mode)"
      ],
      "metadata": {
        "id": "KS8IkSdcOI0P"
      },
      "execution_count": null,
      "outputs": []
    },
    {
      "cell_type": "code",
      "source": [
        "def plot_confusion_matrix(y_true, y_pred, title):\n",
        "    # Crear la matriz de confusión\n",
        "    cm = confusion_matrix(y_true, y_pred)\n",
        "\n",
        "    # Visualizar con Seaborn\n",
        "    plt.figure(figsize=(6, 5))\n",
        "    sns.heatmap(cm, annot=True, fmt='d', cmap='Blues', xticklabels=set(y_true), yticklabels=set(y_true))\n",
        "    plt.xlabel(\"Etiqueta Majoritaria Dists\")\n",
        "    plt.ylabel(\"Test Image Label\")\n",
        "    plt.title(title)\n",
        "    plt.show()"
      ],
      "metadata": {
        "id": "QFtV5nKbPFVV"
      },
      "execution_count": null,
      "outputs": []
    },
    {
      "cell_type": "code",
      "source": [
        "dict_illnesses = {'nv': 0, 'mel': 1, 'bkl': 2, 'bcc': 3, 'akiec': 4, 'vasc': 5, 'df': 6}\n",
        "\n",
        "\n",
        "# 1. Extract and drop index 2 from both Series\n",
        "y_cosin = metadates_cos[\"test_img_label\"].drop(index=2)\n",
        "x_cosin = metadates_cos[\"top_images_labels\"].drop(index=2)\n",
        "\n",
        "x_real = []\n",
        "\n",
        "for i in x_cosin:\n",
        "    moda = process_and_get_mode(i)\n",
        "    x_real.append(dict_illnesses[moda])\n",
        "\n",
        "# 2. Build confusion matrix via crosstab\n",
        "cosin_conf_matrix = pd.crosstab(\n",
        "    y_cosin,\n",
        "    x_real,\n",
        "    rownames=[\"Actual\"],\n",
        "    colnames=[\"Predicted\"],\n",
        "    dropna=False  # include any labels that might be missing in one set\n",
        ")\n",
        "\n",
        "inv_dict_illnesses = {v: k for k, v in dict_illnesses.items()}\n",
        "cosin_conf_matrix.index = cosin_conf_matrix.index.map(inv_dict_illnesses)\n",
        "cosin_conf_matrix.columns = cosin_conf_matrix.columns.map(inv_dict_illnesses)\n",
        "\n",
        "plt.figure(figsize=(10, 8))\n",
        "sns.heatmap(cosin_conf_matrix, annot=True, fmt='d', cmap='Blues')\n",
        "plt.title(\"Confusion Matrix (Cosine Similarity)\")\n",
        "plt.ylabel(\"Classe imatge test\")\n",
        "plt.xlabel(\"Moda dels 5 més propers\")\n",
        "plt.show()"
      ],
      "metadata": {
        "id": "Hqc42qGMLU09"
      },
      "execution_count": null,
      "outputs": []
    },
    {
      "cell_type": "code",
      "source": [
        "y_labels = list(y_cosin)\n",
        "\n",
        "# Comparar valores numéricos\n",
        "a = 0\n",
        "for i in range(len(x_real)):\n",
        "    if x_real[i] != y_labels[i]:\n",
        "        a += 1\n",
        "\n",
        "error_rate = a / len(x_real)\n",
        "print(\"Error rate:\", error_rate)\n",
        "print(\"Accuracy:\", 1 - error_rate)"
      ],
      "metadata": {
        "id": "JGCQnJCopVpY"
      },
      "execution_count": null,
      "outputs": []
    },
    {
      "cell_type": "code",
      "source": [
        "dict_illnesses = {'nv': 0, 'mel': 1, 'bkl': 2, 'bcc': 3, 'akiec': 4, 'vasc': 5, 'df': 6}\n",
        "\n",
        "\n",
        "# 1. Extract and drop index 2 from both Series\n",
        "y_cosin = metadates_l2[\"test_img_label\"].drop(index=2)\n",
        "x_cosin = metadates_l2[\"top_images_labels\"].drop(index=2)\n",
        "\n",
        "x_real = []\n",
        "\n",
        "for i in x_cosin:\n",
        "    moda = process_and_get_mode(i)\n",
        "    x_real.append(dict_illnesses[moda])\n",
        "\n",
        "# 2. Build confusion matrix via crosstab\n",
        "cosin_conf_matrix = pd.crosstab(\n",
        "    y_cosin,\n",
        "    x_real,\n",
        "    rownames=[\"Actual\"],\n",
        "    colnames=[\"Predicted\"],\n",
        "    dropna=False  # include any labels that might be missing in one set\n",
        ")\n",
        "\n",
        "inv_dict_illnesses = {v: k for k, v in dict_illnesses.items()}\n",
        "cosin_conf_matrix.index = cosin_conf_matrix.index.map(inv_dict_illnesses)\n",
        "cosin_conf_matrix.columns = cosin_conf_matrix.columns.map(inv_dict_illnesses)\n",
        "\n",
        "plt.figure(figsize=(10, 8))\n",
        "sns.heatmap(cosin_conf_matrix, annot=True, fmt='d', cmap='Blues')\n",
        "plt.title(\"Confusion Matrix (L2 Similarity)\")\n",
        "plt.ylabel(\"Classe imatge test\")\n",
        "plt.xlabel(\"Moda dels 5 més propers\")\n",
        "plt.show()"
      ],
      "metadata": {
        "id": "29tU_BnHp8pd"
      },
      "execution_count": null,
      "outputs": []
    },
    {
      "cell_type": "code",
      "source": [
        "y_labels = list(y_cosin)\n",
        "\n",
        "# Comparar valores numéricos\n",
        "a = 0\n",
        "for i in range(len(x_real)):\n",
        "    if x_real[i] != y_labels[i]:\n",
        "        a += 1\n",
        "\n",
        "error_rate = a / len(x_real)\n",
        "print(\"Error rate:\", error_rate)\n",
        "print(\"Accuracy:\", 1 - error_rate)"
      ],
      "metadata": {
        "id": "Hv8JtjPOqF8n"
      },
      "execution_count": null,
      "outputs": []
    }
  ]
}