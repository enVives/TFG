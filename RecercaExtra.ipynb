{
  "nbformat": 4,
  "nbformat_minor": 0,
  "metadata": {
    "colab": {
      "provenance": [],
      "authorship_tag": "ABX9TyPEw9YjCULwPYC+4ti2U34l",
      "include_colab_link": true
    },
    "kernelspec": {
      "name": "python3",
      "display_name": "Python 3"
    },
    "language_info": {
      "name": "python"
    }
  },
  "cells": [
    {
      "cell_type": "markdown",
      "metadata": {
        "id": "view-in-github",
        "colab_type": "text"
      },
      "source": [
        "<a href=\"https://colab.research.google.com/github/enVives/TFG/blob/main/RecercaExtra.ipynb\" target=\"_parent\"><img src=\"https://colab.research.google.com/assets/colab-badge.svg\" alt=\"Open In Colab\"/></a>"
      ]
    },
    {
      "cell_type": "code",
      "source": [
        "import torch\n",
        "import cv2\n",
        "import csv\n",
        "import random\n",
        "import numpy as np\n",
        "import ast\n",
        "import os\n",
        "import time\n",
        "import matplotlib.pyplot as plt\n",
        "import kagglehub\n",
        "import pandas as pd\n",
        "import wandb\n",
        "import pylab as pl\n",
        "import json\n",
        "\n",
        "from glob import glob\n",
        "from sklearn.metrics import accuracy_score,f1_score,precision_score,recall_score\n",
        "from tqdm.auto import tqdm\n",
        "from sklearn.metrics import accuracy_score,f1_score,precision_score,recall_score\n",
        "from sklearn.model_selection import train_test_split\n",
        "from torchvision import transforms,models\n",
        "from torch import nn\n",
        "from torch.utils.data import Dataset\n",
        "from google.colab import files\n",
        "from IPython.display import clear_output,display\n",
        "from google.colab.patches import cv2_imshow\n",
        "from PIL import Image\n",
        "from skimage import io\n",
        "from google.colab import drive\n",
        "\n",
        "# ORIGEN = '/content/drive/MyDrive/HAM10000/skin-cancer-mnist-ham10000/'\n",
        "\n",
        "drive.mount('/content/drive')\n",
        "\n",
        "\n",
        "PATH_TRAINING_DISTANCES = \"/content/drive/MyDrive/Features/Embeddings/embeddings_pesos_resnet152multiclass_3.pt.txt\" #embeddings training\n",
        "DISTANCES_IMAGES = \"/content/drive/MyDrive/Features/Dist/1/distances.txt\" #distàncies de totes les imatges de test\n",
        "IMATGES_INTERES = [\"ISIC_0027790\"] #imatges amb els patrons que cercam\n",
        "\n",
        "device = torch.device('cuda' if torch.cuda.is_available() else 'cpu')"
      ],
      "metadata": {
        "id": "L1amdCh9a2Mb",
        "outputId": "ac98a5bd-fbaf-4cf2-857a-741fd756d005",
        "colab": {
          "base_uri": "https://localhost:8080/"
        }
      },
      "execution_count": 63,
      "outputs": [
        {
          "output_type": "stream",
          "name": "stdout",
          "text": [
            "Drive already mounted at /content/drive; to attempt to forcibly remount, call drive.mount(\"/content/drive\", force_remount=True).\n"
          ]
        }
      ]
    },
    {
      "cell_type": "code",
      "source": [
        "# !mkdir -p ~/.kaggle\n",
        "# !mv /content/kaggle.json ~/.kaggle/\n",
        "# !chmod 600 ~/.kaggle/kaggle.json"
      ],
      "metadata": {
        "id": "eOvWJxspa3fS"
      },
      "execution_count": 64,
      "outputs": []
    },
    {
      "cell_type": "code",
      "source": [
        "dataframe = pd.read_csv(DISTANCES_IMAGES, sep=';')\n",
        "embeddings_training = pd.read_csv(PATH_TRAINING_DISTANCES, sep=';')\n",
        "files_interes = []\n",
        "\n",
        "for i in IMATGES_INTERES:\n",
        "    fila = dataframe[dataframe['test_img'] == i]\n",
        "    files_interes.append(fila)\n",
        "\n",
        "for i in files_interes:\n",
        "  vector_features = []\n",
        "\n",
        "  imatge_test = i['test_img'].iloc[0]\n",
        "  imatges_training = ast.literal_eval(i['top_images_names'].iloc[0])\n",
        "\n"
      ],
      "metadata": {
        "id": "ERFLryIkcX6y"
      },
      "execution_count": 66,
      "outputs": []
    }
  ]
}