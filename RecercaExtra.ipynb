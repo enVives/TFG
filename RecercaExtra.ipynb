{
  "nbformat": 4,
  "nbformat_minor": 0,
  "metadata": {
    "colab": {
      "provenance": [],
      "authorship_tag": "ABX9TyNllrYLse7eomJUE6hAIpKs",
      "include_colab_link": true
    },
    "kernelspec": {
      "name": "python3",
      "display_name": "Python 3"
    },
    "language_info": {
      "name": "python"
    }
  },
  "cells": [
    {
      "cell_type": "markdown",
      "metadata": {
        "id": "view-in-github",
        "colab_type": "text"
      },
      "source": [
        "<a href=\"https://colab.research.google.com/github/enVives/TFG/blob/main/RecercaExtra.ipynb\" target=\"_parent\"><img src=\"https://colab.research.google.com/assets/colab-badge.svg\" alt=\"Open In Colab\"/></a>"
      ]
    },
    {
      "cell_type": "code",
      "source": [
        "import torch\n",
        "import cv2\n",
        "import csv\n",
        "import random\n",
        "import numpy as np\n",
        "import ast\n",
        "import os\n",
        "import time\n",
        "import matplotlib.pyplot as plt\n",
        "import kagglehub\n",
        "import pandas as pd\n",
        "import wandb\n",
        "import pylab as pl\n",
        "import json\n",
        "import sys\n",
        "import ast\n",
        "import shutil\n",
        "\n",
        "from glob import glob\n",
        "from sklearn.metrics import accuracy_score,f1_score,precision_score,recall_score\n",
        "from tqdm.auto import tqdm\n",
        "from sklearn.metrics import accuracy_score,f1_score,precision_score,recall_score\n",
        "from sklearn.model_selection import train_test_split\n",
        "from torchvision import transforms,models\n",
        "from torch import nn\n",
        "from torch.utils.data import Dataset\n",
        "from google.colab import files\n",
        "from IPython.display import clear_output,display\n",
        "from google.colab.patches import cv2_imshow\n",
        "from PIL import Image\n",
        "from skimage import io\n",
        "from google.colab import drive\n",
        "\n",
        "# ORIGEN = '/content/drive/MyDrive/HAM10000/skin-cancer-mnist-ham10000/'\n",
        "DOWNLOAD = False\n",
        "PUT = False\n",
        "RUN = 22\n",
        "\n",
        "TESTING_FEATURES_FILE = '/content/drive/MyDrive/Runs/Ham10000Resnet152Multiclass/'+str(RUN)+'/Features/testing_features.txt'\n",
        "TRAINING_FEATURES_FILE = '/content/drive/MyDrive/Runs/Ham10000Resnet152Multiclass/'+str(RUN)+'/Features/training_features.txt'\n",
        "HAIRIMG = '/content/drive/MyDrive/Runs/Ham10000Resnet152Multiclass/'+str(RUN)+'/HairFeature/'\n",
        "\n",
        "\n",
        "if PUT:\n",
        "  if os.path.exists(HAIRIMG):\n",
        "      shutil.rmtree(HAIRIMG)\n",
        "\n",
        "  os.makedirs(HAIRIMG,exist_ok=True)\n",
        "\n",
        "drive.mount('/content/drive')\n",
        "\n",
        "if DOWNLOAD:\n",
        "  !rm -rf /content/sample_data/*\n",
        "\n",
        "  !kaggle datasets download -d \"kmader/skin-cancer-mnist-ham10000\"\n",
        "\n",
        "  !unzip -o skin-cancer-mnist-ham10000.zip -d /content/sample_data/\n",
        "\n",
        "\n",
        "# IMAGE_PATHS1 = glob('/content/sample_data/HAM10000_images_part_1/*.jpg')\n",
        "# IMAGE_PATHS2 = glob('/content/sample_data/HAM10000_images_part_2/*.jpg')\n",
        "# IMAGE_PATHS3 = glob('/content/sample_data/ham10000_images_part_1/*.jpg')\n",
        "# IMAGE_PATHS4 = glob('/content/sample_data/ham10000_images_part_2/*.jpg')\n",
        "# IMAGE_PATHS = IMAGE_PATHS1 + IMAGE_PATHS2 + IMAGE_PATHS3 + IMAGE_PATHS4\n",
        "# PATH_TRAINING_DISTANCES = \"/content/drive/MyDrive/Features/Embeddings/embeddings_pesos_resnet152multiclass_3.pt.txt\" #embeddings training\n",
        "# DISTANCES_IMAGES = \"/content/drive/MyDrive/Features/Dist/1/distances.txt\" #distàncies de totes les imatges de test\n",
        "\n",
        "IMG_PATH = '/content/sample_data/HAM10000_images_part_1/'\n",
        "\n",
        "IMATGES_INTERES = [\"ISIC_0027790.jpg\",\"ISIC_0027010.jpg\",\"ISIC_0025415.jpg\",\"ISIC_0026286.jpg\",\"ISIC_0025606.jpg\",\"ISIC_0028732.jpg\"\n",
        ",\"ISIC_0026879.jpg\",\"ISIC_0025466.jpg\",\"ISIC_0025746.jpg\",\"ISIC_0026193.jpg\",\"ISIC_0026947.jpg\",\"ISIC_0028777.jpg\",\"ISIC_0024803.jpg\",\"ISIC_0026292.jpg\"\n",
        ",\"ISIC_0027970.jpg\",\"ISIC_0028921.jpg\",\"ISIC_0024891.jpg\",\"ISIC_0026315.jpg\",\"ISIC_0026392.jpg\",\"ISIC_0027199.jpg\",\"ISIC_0026127.jpg\"\n",
        ",\"ISIC_0026303.jpg\",\"ISIC_0029097.jpg\",\"ISIC_0025282.jpg\",\"ISIC_0028642.jpg\",\"ISIC_0027295.jpg\",\"ISIC_0025216.jpg\",\"ISIC_0028424.jpg\",\"ISIC_0025526.jpg\"\n",
        ",\"ISIC_0026184.jpg\",\"ISIC_0024779.jpg\",\"ISIC_0026998.jpg\",\"ISIC_0024342.jpg\",\"ISIC_0024411.jpg\",\"ISIC_0026615.jpg\",\"ISIC_0026651.jpg\"] #imatges amb els patrons que cercam\n",
        "\n",
        "device = torch.device('cuda' if torch.cuda.is_available() else 'cpu')\n",
        "\n",
        "if PUT:\n",
        "  for i in IMATGES_INTERES:\n",
        "    shutil.copy(IMG_PATH+i,HAIRIMG)"
      ],
      "metadata": {
        "colab": {
          "base_uri": "https://localhost:8080/"
        },
        "id": "L1amdCh9a2Mb",
        "outputId": "eb310903-b3d0-465d-d1fe-38c53b105df1"
      },
      "execution_count": 57,
      "outputs": [
        {
          "output_type": "stream",
          "name": "stdout",
          "text": [
            "Drive already mounted at /content/drive; to attempt to forcibly remount, call drive.mount(\"/content/drive\", force_remount=True).\n"
          ]
        }
      ]
    },
    {
      "cell_type": "code",
      "source": [
        "features = []\n",
        "def guarda_features_hairy():\n",
        "  for j in IMATGES_INTERES:\n",
        "    with open(TESTING_FEATURES_FILE ,newline = '') as ftst:\n",
        "      test_features = csv.DictReader(ftst,delimiter=',')\n",
        "\n",
        "      for row in test_features:\n",
        "        if row['Image Name'] == j:\n",
        "          features.append(ast.literal_eval(row['FC Input']))\n",
        "\n",
        "    with open(TRAINING_FEATURES_FILE ,newline = '') as ftr:\n",
        "      tr_features = csv.DictReader(ftr,delimiter = ',')\n",
        "\n",
        "      for row in tr_features:\n",
        "        if row['Image Name'] == j:\n",
        "          features.append(ast.literal_eval(row['FC Input']))\n",
        "\n"
      ],
      "metadata": {
        "id": "cQSN4LfB-yF8"
      },
      "execution_count": null,
      "outputs": []
    },
    {
      "cell_type": "code",
      "source": [
        "# Supón que IMAGE_PATHS ya contiene todas tus rutas\n",
        "# for path in IMAGE_PATHS:  # Puedes cambiar el número de imágenes que deseas ver\n",
        "#     img = Image.open(path)\n",
        "#     clear_output(wait=True)  # Limpia la celda para mostrar la siguiente imagen\n",
        "#     display(img)\n",
        "#     print(path)\n",
        "#     time.sleep(5)  # Espera 2 segundos\n"
      ],
      "metadata": {
        "id": "SpjWfk1EsaXi"
      },
      "execution_count": 59,
      "outputs": []
    },
    {
      "cell_type": "code",
      "source": [],
      "metadata": {
        "id": "Ybrw1aNRsbGr"
      },
      "execution_count": 59,
      "outputs": []
    },
    {
      "cell_type": "code",
      "source": [
        "# !mkdir -p ~/.kaggle\n",
        "# !mv /content/kaggle.json ~/.kaggle/\n",
        "# !chmod 600 ~/.kaggle/kaggle.json"
      ],
      "metadata": {
        "id": "eOvWJxspa3fS"
      },
      "execution_count": 60,
      "outputs": []
    },
    {
      "cell_type": "code",
      "source": [
        "# print(vector_features)"
      ],
      "metadata": {
        "id": "p4XL8dlniUNK"
      },
      "execution_count": 61,
      "outputs": []
    }
  ]
}