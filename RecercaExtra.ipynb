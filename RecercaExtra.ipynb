{
  "nbformat": 4,
  "nbformat_minor": 0,
  "metadata": {
    "colab": {
      "provenance": [],
      "authorship_tag": "ABX9TyO28ZwJ9HGnMulM+2Lz7YcE",
      "include_colab_link": true
    },
    "kernelspec": {
      "name": "python3",
      "display_name": "Python 3"
    },
    "language_info": {
      "name": "python"
    }
  },
  "cells": [
    {
      "cell_type": "markdown",
      "metadata": {
        "id": "view-in-github",
        "colab_type": "text"
      },
      "source": [
        "<a href=\"https://colab.research.google.com/github/enVives/TFG/blob/main/RecercaExtra.ipynb\" target=\"_parent\"><img src=\"https://colab.research.google.com/assets/colab-badge.svg\" alt=\"Open In Colab\"/></a>"
      ]
    },
    {
      "cell_type": "code",
      "source": [
        "import torch\n",
        "import cv2\n",
        "import csv\n",
        "import random\n",
        "import numpy as np\n",
        "import ast\n",
        "import os\n",
        "import time\n",
        "import matplotlib.pyplot as plt\n",
        "import kagglehub\n",
        "import pandas as pd\n",
        "import wandb\n",
        "import pylab as pl\n",
        "import json\n",
        "import sys\n",
        "import ast\n",
        "import shutil\n",
        "\n",
        "from glob import glob\n",
        "from sklearn.metrics import accuracy_score,f1_score,precision_score,recall_score\n",
        "from tqdm.auto import tqdm\n",
        "from sklearn.metrics import accuracy_score,f1_score,precision_score,recall_score\n",
        "from sklearn.model_selection import train_test_split\n",
        "from torchvision import transforms,models\n",
        "from torch import nn\n",
        "from torch.utils.data import Dataset\n",
        "from google.colab import files\n",
        "from IPython.display import clear_output,display\n",
        "from google.colab.patches import cv2_imshow\n",
        "from PIL import Image\n",
        "from skimage import io\n",
        "from google.colab import drive\n",
        "\n",
        "# ORIGEN = '/content/drive/MyDrive/HAM10000/skin-cancer-mnist-ham10000/'\n",
        "DOWNLOAD = False\n",
        "RUN = 22\n",
        "\n",
        "TESTING_FEATURES_FILE = '/content/drive/MyDrive/Runs/Ham10000Resnet152Multiclass/'+str(RUN)+'/Features/testing_features.txt'\n",
        "TRAINING_FEATURES_FILE = '/content/drive/MyDrive/Runs/Ham10000Resnet152Multiclass/'+str(RUN)+'/Features/training_features.txt'\n",
        "HAIRIMG = '/content/drive/MyDrive/Runs/Ham10000Resnet152Multiclass/'+str(RUN)+'/HairFeature/'\n",
        "\n",
        "if os.path.exists(HAIRIMG):\n",
        "    shutil.rmtree(HAIRIMG)\n",
        "\n",
        "os.makedirs(HAIRIMG,exist_ok=True)\n",
        "\n",
        "drive.mount('/content/drive')\n",
        "\n",
        "if DOWNLOAD:\n",
        "  !rm -rf /content/sample_data/*\n",
        "\n",
        "  !kaggle datasets download -d \"kmader/skin-cancer-mnist-ham10000\"\n",
        "\n",
        "  !unzip -o skin-cancer-mnist-ham10000.zip -d /content/sample_data/\n",
        "\n",
        "\n",
        "# IMAGE_PATHS1 = glob('/content/sample_data/HAM10000_images_part_1/*.jpg')\n",
        "# IMAGE_PATHS2 = glob('/content/sample_data/HAM10000_images_part_2/*.jpg')\n",
        "# IMAGE_PATHS3 = glob('/content/sample_data/ham10000_images_part_1/*.jpg')\n",
        "# IMAGE_PATHS4 = glob('/content/sample_data/ham10000_images_part_2/*.jpg')\n",
        "# IMAGE_PATHS = IMAGE_PATHS1 + IMAGE_PATHS2 + IMAGE_PATHS3 + IMAGE_PATHS4\n",
        "# PATH_TRAINING_DISTANCES = \"/content/drive/MyDrive/Features/Embeddings/embeddings_pesos_resnet152multiclass_3.pt.txt\" #embeddings training\n",
        "# DISTANCES_IMAGES = \"/content/drive/MyDrive/Features/Dist/1/distances.txt\" #distàncies de totes les imatges de test\n",
        "\n",
        "IMG_PATH = '/content/sample_data/HAM10000_images_part_1/'\n",
        "\n",
        "IMATGES_INTERES = [\"ISIC_0027790.jpg\",\"ISIC_0027010.jpg\",\"ISIC_0025415.jpg\",\"ISIC_0026286.jpg\",\"ISIC_0025606.jpg\",\"ISIC_0028732.jpg\"\n",
        ",\"ISIC_0026879.jpg\",\"ISIC_0025466.jpg\",\"ISIC_0025746.jpg\",\"ISIC_0026143.jpg\",\"ISIC_0026947.jpg\",\"ISIC_0028777.jpg\",\"ISIC_0024803.jpg\",\"ISIC_0026292.jpg\"\n",
        ",\"ISIC_0027970.jpg\",\"ISIC_0028921.jpg\",\"ISIC_0024891.jpg\",\"ISIC_0026315.jpg\",\"ISIC_0026392.jpg\",\"ISIC_0027199.jpg\",\"ISIC_0026127.jpg\"\n",
        ",\"ISIC_0026303.jpg\",\"ISIC_0029097.jpg\",\"ISIC_0025282.jpg\",\"ISIC_0028642.jpg\",\"ISIC_0027295.jpg\",\"ISIC_0025216.jpg\",\"ISIC_0028424.jpg\",\"ISIC_0025526.jpg\"\n",
        ",\"ISIC_0026184.jpg\",\"ISIC_0024779.jpg\",\"ISIC_0026998.jpg\",\"ISIC_0024342.jpg\",\"ISIC_0024411.jpg\",\"ISIC_0026615.jpg\",\"ISIC_0026651.jpg\"] #imatges amb els patrons que cercam\n",
        "\n",
        "device = torch.device('cuda' if torch.cuda.is_available() else 'cpu')"
      ],
      "metadata": {
        "colab": {
          "base_uri": "https://localhost:8080/"
        },
        "id": "L1amdCh9a2Mb",
        "outputId": "c9c50d31-49c5-49ce-8d1f-3813f86ff049"
      },
      "execution_count": 37,
      "outputs": [
        {
          "output_type": "stream",
          "name": "stdout",
          "text": [
            "Drive already mounted at /content/drive; to attempt to forcibly remount, call drive.mount(\"/content/drive\", force_remount=True).\n"
          ]
        }
      ]
    },
    {
      "cell_type": "code",
      "source": [
        "for i in IMATGES_INTERES:\n",
        "  shutil.copy(IMG_PATH+i,HAIRIMG)"
      ],
      "metadata": {
        "id": "pHgdYTnk8H7g"
      },
      "execution_count": 38,
      "outputs": []
    },
    {
      "cell_type": "code",
      "source": [
        "# Supón que IMAGE_PATHS ya contiene todas tus rutas\n",
        "# for path in IMAGE_PATHS:  # Puedes cambiar el número de imágenes que deseas ver\n",
        "#     img = Image.open(path)\n",
        "#     clear_output(wait=True)  # Limpia la celda para mostrar la siguiente imagen\n",
        "#     display(img)\n",
        "#     print(path)\n",
        "#     time.sleep(5)  # Espera 2 segundos\n"
      ],
      "metadata": {
        "id": "SpjWfk1EsaXi"
      },
      "execution_count": 39,
      "outputs": []
    },
    {
      "cell_type": "code",
      "source": [],
      "metadata": {
        "id": "Ybrw1aNRsbGr"
      },
      "execution_count": 39,
      "outputs": []
    },
    {
      "cell_type": "code",
      "source": [
        "# !mkdir -p ~/.kaggle\n",
        "# !mv /content/kaggle.json ~/.kaggle/\n",
        "# !chmod 600 ~/.kaggle/kaggle.json"
      ],
      "metadata": {
        "id": "eOvWJxspa3fS"
      },
      "execution_count": 40,
      "outputs": []
    },
    {
      "cell_type": "code",
      "source": [
        "# dataframe = pd.read_csv(DISTANCES_IMAGES, sep=';')\n",
        "# embeddings_training = pd.read_csv(PATH_TRAINING_DISTANCES, sep=',')\n",
        "# files_interes = []\n",
        "\n",
        "# for i in IMATGES_INTERES:\n",
        "#     fila = dataframe[dataframe['test_img'] == i]\n",
        "#     files_interes.append(fila)\n",
        "\n",
        "# for i in files_interes:\n",
        "#   vector_features = [[],[]]\n",
        "\n",
        "#   imatge_test = i['test_img'].iloc[0]\n",
        "#   imatges_training = ast.literal_eval(i['top_images_names'].iloc[0])\n",
        "#   imatges_training_jpg = [img + \".jpg\" for img in imatges_training]\n",
        "\n",
        "#   training = embeddings_training[embeddings_training['Image Name'].isin(imatges_training_jpg)][['FC Input','Image Name']]\n",
        "#   distances_training = training['FC Input'].to_list()\n",
        "#   vector_features[0].append(training['Image Name'].to_list())\n",
        "\n",
        "#   for j in distances_training:\n",
        "#     vector_features[1].append(ast.literal_eval(j)) #distàncies de les imatges d'entrenament guardades, ens interessaria els noms també\n",
        "\n",
        "#   #falta cercar el vector de distàncies de la imatge de test i fer les comparacions adients.\n",
        "\n"
      ],
      "metadata": {
        "id": "ERFLryIkcX6y"
      },
      "execution_count": 41,
      "outputs": []
    },
    {
      "cell_type": "code",
      "source": [
        "# print(vector_features)"
      ],
      "metadata": {
        "id": "p4XL8dlniUNK"
      },
      "execution_count": 42,
      "outputs": []
    }
  ]
}